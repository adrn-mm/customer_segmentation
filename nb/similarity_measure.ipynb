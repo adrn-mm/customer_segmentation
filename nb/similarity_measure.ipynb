{
 "cells": [
  {
   "attachments": {},
   "cell_type": "markdown",
   "metadata": {},
   "source": [
    "# Import Libraries"
   ]
  },
  {
   "cell_type": "code",
   "execution_count": 1,
   "metadata": {},
   "outputs": [],
   "source": [
    "import pandas as pd\n",
    "import numpy as np\n",
    "from sklearn.metrics.pairwise import euclidean_distances"
   ]
  },
  {
   "attachments": {},
   "cell_type": "markdown",
   "metadata": {},
   "source": [
    "# Import Output Dataset"
   ]
  },
  {
   "cell_type": "code",
   "execution_count": 2,
   "metadata": {},
   "outputs": [],
   "source": [
    "df_clusters = pd.read_csv('../data/output.csv')\n",
    "# remap gender column\n",
    "df_clusters['CustGender'] = df_clusters['CustGender'].map({'M':1,'F':0})"
   ]
  },
  {
   "attachments": {},
   "cell_type": "markdown",
   "metadata": {},
   "source": [
    "# Calculate Similarity Measure per Cluster"
   ]
  },
  {
   "cell_type": "code",
   "execution_count": 3,
   "metadata": {},
   "outputs": [
    {
     "name": "stderr",
     "output_type": "stream",
     "text": [
      "C:\\Users\\adrian.muhammad\\AppData\\Local\\Temp\\ipykernel_13184\\2725626251.py:9: RuntimeWarning: invalid value encountered in scalar divide\n",
      "  similarity_measure = 1 - (similarity_measure / similarity_matrix.max())\n"
     ]
    },
    {
     "data": {
      "text/html": [
       "<div>\n",
       "<style scoped>\n",
       "    .dataframe tbody tr th:only-of-type {\n",
       "        vertical-align: middle;\n",
       "    }\n",
       "\n",
       "    .dataframe tbody tr th {\n",
       "        vertical-align: top;\n",
       "    }\n",
       "\n",
       "    .dataframe thead th {\n",
       "        text-align: right;\n",
       "    }\n",
       "</style>\n",
       "<table border=\"1\" class=\"dataframe\">\n",
       "  <thead>\n",
       "    <tr style=\"text-align: right;\">\n",
       "      <th></th>\n",
       "      <th>Cluster</th>\n",
       "      <th>Similarity Measure</th>\n",
       "    </tr>\n",
       "  </thead>\n",
       "  <tbody>\n",
       "    <tr>\n",
       "      <th>0</th>\n",
       "      <td>1</td>\n",
       "      <td>0.80</td>\n",
       "    </tr>\n",
       "    <tr>\n",
       "      <th>1</th>\n",
       "      <td>2</td>\n",
       "      <td>0.89</td>\n",
       "    </tr>\n",
       "    <tr>\n",
       "      <th>2</th>\n",
       "      <td>3</td>\n",
       "      <td>0.92</td>\n",
       "    </tr>\n",
       "    <tr>\n",
       "      <th>3</th>\n",
       "      <td>4</td>\n",
       "      <td>0.81</td>\n",
       "    </tr>\n",
       "    <tr>\n",
       "      <th>4</th>\n",
       "      <td>5</td>\n",
       "      <td>NaN</td>\n",
       "    </tr>\n",
       "    <tr>\n",
       "      <th>5</th>\n",
       "      <td>6</td>\n",
       "      <td>0.72</td>\n",
       "    </tr>\n",
       "  </tbody>\n",
       "</table>\n",
       "</div>"
      ],
      "text/plain": [
       "   Cluster  Similarity Measure\n",
       "0        1                0.80\n",
       "1        2                0.89\n",
       "2        3                0.92\n",
       "3        4                0.81\n",
       "4        5                 NaN\n",
       "5        6                0.72"
      ]
     },
     "execution_count": 3,
     "metadata": {},
     "output_type": "execute_result"
    }
   ],
   "source": [
    "cluster_ids = df_clusters['Label'].unique()\n",
    "similarity_measures = []  # List untuk menyimpan similarity measure tiap cluster\n",
    "\n",
    "for cluster_id in cluster_ids:\n",
    "    cluster_data = df_clusters[df_clusters['Label'] == cluster_id]\n",
    "    cluster_data = cluster_data.loc[:,:'Recency']\n",
    "    similarity_matrix = euclidean_distances(cluster_data)\n",
    "    similarity_measure = similarity_matrix.mean()  # Misalnya, menggunakan rata-rata jarak Euclidean\n",
    "    similarity_measure = 1 - (similarity_measure / similarity_matrix.max())\n",
    "    similarity_measure = round(similarity_measure, 2) \n",
    "    similarity_measures.append({'Cluster': cluster_id, 'Similarity Measure': similarity_measure})\n",
    "\n",
    "# Membuat dataframe dari similarity measures\n",
    "similarity_df = pd.DataFrame(similarity_measures)\n",
    "similarity_df.sort_values('Cluster', inplace=True,ascending=True)\n",
    "similarity_df.reset_index(inplace=True, drop=True)\n",
    "similarity_df"
   ]
  },
  {
   "attachments": {},
   "cell_type": "markdown",
   "metadata": {},
   "source": [
    "Angka similarity measure pada dasarnya menunjukkan seberapa mirip atau seberapa dekat dua objek atau data dalam konteks tertentu. Semakin tinggi nilai similarity measure, semakin mirip atau dekat kedua objek tersebut dianggap. Namun, penting untuk memahami bahwa makna atau interpretasi pasti dari angka similarity measure bergantung pada metode atau skala yang digunakan, serta konteks aplikasi atau analisis spesifik."
   ]
  }
 ],
 "metadata": {
  "kernelspec": {
   "display_name": "venv",
   "language": "python",
   "name": "python3"
  },
  "language_info": {
   "codemirror_mode": {
    "name": "ipython",
    "version": 3
   },
   "file_extension": ".py",
   "mimetype": "text/x-python",
   "name": "python",
   "nbconvert_exporter": "python",
   "pygments_lexer": "ipython3",
   "version": "3.8.10"
  },
  "orig_nbformat": 4
 },
 "nbformat": 4,
 "nbformat_minor": 2
}
